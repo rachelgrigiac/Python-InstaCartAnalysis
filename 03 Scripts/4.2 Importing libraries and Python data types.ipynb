{
 "cells": [
  {
   "cell_type": "markdown",
   "id": "61d58641-b982-4337-8da5-03448cbe7451",
   "metadata": {},
   "source": [
    "# 01. Importing libraries"
   ]
  },
  {
   "cell_type": "code",
   "execution_count": 1,
   "id": "17f85d73-1a58-4224-bf2c-e854aff16809",
   "metadata": {},
   "outputs": [],
   "source": [
    "# Import libraries\n",
    "import pandas as pd\n",
    "import numpy as np\n",
    "import os"
   ]
  },
  {
   "cell_type": "code",
   "execution_count": null,
   "id": "f8465e25-d683-40ba-92e0-fc4bfe8ab749",
   "metadata": {},
   "outputs": [],
   "source": [
    "## Definitions"
   ]
  },
  {
   "cell_type": "code",
   "execution_count": 23,
   "id": "3d1c7ce8-d547-42dc-8a97-5e5cafaad735",
   "metadata": {},
   "outputs": [],
   "source": [
    "x = 10"
   ]
  },
  {
   "cell_type": "code",
   "execution_count": 24,
   "id": "11102b6b-07db-495b-89fe-2ddb641f0835",
   "metadata": {},
   "outputs": [],
   "source": [
    "y = 50"
   ]
  },
  {
   "cell_type": "code",
   "execution_count": 25,
   "id": "c404d1a6-c951-458b-b789-547fb241d037",
   "metadata": {},
   "outputs": [],
   "source": [
    "z = 2"
   ]
  },
  {
   "cell_type": "code",
   "execution_count": 29,
   "id": "a677a9c6-f43b-494d-92b6-f54c1a05a2e3",
   "metadata": {},
   "outputs": [],
   "source": [
    "a = 99"
   ]
  },
  {
   "cell_type": "code",
   "execution_count": 30,
   "id": "7e844046-6be1-405e-a952-fb44855194e4",
   "metadata": {},
   "outputs": [],
   "source": [
    "b = 1"
   ]
  },
  {
   "cell_type": "code",
   "execution_count": null,
   "id": "16ed4751-1973-4ed0-974a-e8999d2c6d15",
   "metadata": {},
   "outputs": [],
   "source": [
    "## Calulations Task 7: Different ways of reaching a result of 100"
   ]
  },
  {
   "cell_type": "code",
   "execution_count": 26,
   "id": "b7860883-9645-4141-aec0-41ac38d666dd",
   "metadata": {},
   "outputs": [
    {
     "data": {
      "text/plain": [
       "100"
      ]
     },
     "execution_count": 26,
     "metadata": {},
     "output_type": "execute_result"
    }
   ],
   "source": [
    "y * z"
   ]
  },
  {
   "cell_type": "code",
   "execution_count": 28,
   "id": "85b20ea2-cbab-4622-b071-e8c5fd3af1bf",
   "metadata": {},
   "outputs": [
    {
     "data": {
      "text/plain": [
       "100"
      ]
     },
     "execution_count": 28,
     "metadata": {},
     "output_type": "execute_result"
    }
   ],
   "source": [
    "2 * y"
   ]
  },
  {
   "cell_type": "code",
   "execution_count": 31,
   "id": "3a42cf7a-3a38-44e5-ab41-6845410c1341",
   "metadata": {},
   "outputs": [
    {
     "data": {
      "text/plain": [
       "100"
      ]
     },
     "execution_count": 31,
     "metadata": {},
     "output_type": "execute_result"
    }
   ],
   "source": [
    "a + b"
   ]
  },
  {
   "cell_type": "code",
   "execution_count": null,
   "id": "ba8fd433-220e-4b24-bfbb-3fe9ab9829dd",
   "metadata": {},
   "outputs": [],
   "source": [
    "## Definitions"
   ]
  },
  {
   "cell_type": "code",
   "execution_count": 32,
   "id": "925657e0-9268-42f5-9bb1-c4a3149d27e6",
   "metadata": {},
   "outputs": [],
   "source": [
    "p = 3.569"
   ]
  },
  {
   "cell_type": "code",
   "execution_count": 33,
   "id": "52ec8974-a9e3-42e0-a526-1caa5a82e7f2",
   "metadata": {},
   "outputs": [],
   "source": [
    "q = 7.482"
   ]
  },
  {
   "cell_type": "code",
   "execution_count": null,
   "id": "c5d03785-e505-4661-856b-b1094a3483a9",
   "metadata": {},
   "outputs": [],
   "source": [
    "## Calculations Task 8: Floating-point variables and divide them by each other"
   ]
  },
  {
   "cell_type": "code",
   "execution_count": 34,
   "id": "f9673a99-242e-4c3b-8723-55150ba4e92f",
   "metadata": {},
   "outputs": [
    {
     "data": {
      "text/plain": [
       "0.47701149425287354"
      ]
     },
     "execution_count": 34,
     "metadata": {},
     "output_type": "execute_result"
    }
   ],
   "source": [
    "p / q"
   ]
  },
  {
   "cell_type": "code",
   "execution_count": null,
   "id": "f19c7163-e3d3-4332-95dd-c8ad58297fc8",
   "metadata": {},
   "outputs": [],
   "source": [
    "## Definitions"
   ]
  },
  {
   "cell_type": "code",
   "execution_count": 53,
   "id": "2efd57e9-a6ee-406d-a547-a7e77186c98e",
   "metadata": {},
   "outputs": [],
   "source": [
    "i = 'Hello '"
   ]
  },
  {
   "cell_type": "code",
   "execution_count": 68,
   "id": "68f75d6f-05b8-465c-9dc5-1ebca280787a",
   "metadata": {},
   "outputs": [],
   "source": [
    "j = 'Mate!'"
   ]
  },
  {
   "cell_type": "code",
   "execution_count": null,
   "id": "93e12dd0-ec82-42ee-825d-2b18d3924f3e",
   "metadata": {},
   "outputs": [],
   "source": [
    "## Calculations Task 9: A short word made of separate strings"
   ]
  },
  {
   "cell_type": "code",
   "execution_count": 69,
   "id": "afe6e0eb-dc69-4441-a38f-cb607564345e",
   "metadata": {},
   "outputs": [
    {
     "data": {
      "text/plain": [
       "'Hello Mate!'"
      ]
     },
     "execution_count": 69,
     "metadata": {},
     "output_type": "execute_result"
    }
   ],
   "source": [
    "i + j"
   ]
  },
  {
   "cell_type": "code",
   "execution_count": null,
   "id": "28036067-9e32-4a0a-8071-9bbba04b7c3d",
   "metadata": {},
   "outputs": [],
   "source": [
    "## Definitions"
   ]
  },
  {
   "cell_type": "code",
   "execution_count": 72,
   "id": "18c8df8e-1cc3-438b-952a-c51b00bb196f",
   "metadata": {},
   "outputs": [],
   "source": [
    "k = 'How are you?'"
   ]
  },
  {
   "cell_type": "code",
   "execution_count": 71,
   "id": "08bb37d5-784e-4d7e-b84a-6461094cc5dc",
   "metadata": {},
   "outputs": [],
   "source": [
    "l = 'Good to see you!'"
   ]
  },
  {
   "cell_type": "code",
   "execution_count": null,
   "id": "86479146-c3b8-4471-9d36-44d3863dd0d4",
   "metadata": {},
   "outputs": [],
   "source": [
    "## Calculations Task 10: Short sentence made of separate strings"
   ]
  },
  {
   "cell_type": "code",
   "execution_count": 73,
   "id": "bb4c53da-bbe3-471b-9193-44feceef3d0e",
   "metadata": {},
   "outputs": [
    {
     "data": {
      "text/plain": [
       "'Hello Mate!Good to see you!How are you?'"
      ]
     },
     "execution_count": 73,
     "metadata": {},
     "output_type": "execute_result"
    }
   ],
   "source": [
    "i + j + l + k"
   ]
  },
  {
   "cell_type": "code",
   "execution_count": null,
   "id": "91d74cff-8a8c-4ab5-bf2c-9a866d77b01f",
   "metadata": {},
   "outputs": [],
   "source": [
    "## Bonus Task"
   ]
  },
  {
   "cell_type": "code",
   "execution_count": 74,
   "id": "47e21074-90ec-459f-b4b6-609d8061a536",
   "metadata": {},
   "outputs": [
    {
     "data": {
      "text/plain": [
       "'Hello Hello Hello Hello Hello Hello Hello Hello Hello Hello Hello Hello Hello Hello Hello Hello Hello Hello Hello Hello Hello Hello Hello Hello Hello Hello Hello Hello Hello Hello Hello Hello Hello Hello Hello Hello Hello Hello Hello Hello Hello Hello Hello Hello Hello Hello Hello Hello Hello Hello Hello Hello Hello Hello Hello Hello Hello Hello Hello Hello Hello Hello Hello Hello Hello Hello Hello Hello Hello Hello Hello Hello Hello Hello Hello Hello Hello Hello Hello Hello Hello Hello Hello Hello Hello Hello Hello Hello Hello Hello Hello Hello Hello Hello Hello Hello Hello Hello Hello Hello '"
      ]
     },
     "execution_count": 74,
     "metadata": {},
     "output_type": "execute_result"
    }
   ],
   "source": [
    "i * 100"
   ]
  }
 ],
 "metadata": {
  "kernelspec": {
   "display_name": "Python 3 (ipykernel)",
   "language": "python",
   "name": "python3"
  },
  "language_info": {
   "codemirror_mode": {
    "name": "ipython",
    "version": 3
   },
   "file_extension": ".py",
   "mimetype": "text/x-python",
   "name": "python",
   "nbconvert_exporter": "python",
   "pygments_lexer": "ipython3",
   "version": "3.11.7"
  }
 },
 "nbformat": 4,
 "nbformat_minor": 5
}
