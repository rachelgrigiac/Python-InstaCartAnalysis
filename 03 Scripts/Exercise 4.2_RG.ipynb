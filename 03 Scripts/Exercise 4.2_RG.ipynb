{
 "cells": [
  {
   "cell_type": "markdown",
   "id": "f508b772-b7ff-4d36-bbee-dbe36d7bc67f",
   "metadata": {},
   "source": [
    "# 01 Importing Libraries"
   ]
  },
  {
   "cell_type": "code",
   "execution_count": 1,
   "id": "048555c5-0ee8-4047-b211-a88079459145",
   "metadata": {},
   "outputs": [],
   "source": [
    "# Importing libraries\n",
    "import pandas as pd\n",
    "import numpy as np\n",
    "import os"
   ]
  },
  {
   "cell_type": "markdown",
   "id": "327652d0-d557-4576-84ae-f7d52e161346",
   "metadata": {},
   "source": [
    "# 02 Python Data Types"
   ]
  },
  {
   "cell_type": "markdown",
   "id": "0bc7f823-4c13-4452-9353-04f61725a877",
   "metadata": {},
   "source": [
    "### 1."
   ]
  },
  {
   "cell_type": "code",
   "execution_count": 2,
   "id": "1167fc7a-4c2b-4c41-ae32-41b155ec9342",
   "metadata": {},
   "outputs": [],
   "source": [
    "x = 50"
   ]
  },
  {
   "cell_type": "code",
   "execution_count": 3,
   "id": "5c59f161-1d29-4c45-93c7-ef277940e241",
   "metadata": {},
   "outputs": [
    {
     "data": {
      "text/plain": [
       "100"
      ]
     },
     "execution_count": 3,
     "metadata": {},
     "output_type": "execute_result"
    }
   ],
   "source": [
    "x + x"
   ]
  },
  {
   "cell_type": "code",
   "execution_count": 4,
   "id": "a46171f8-85e5-4a18-8f91-c8ecba5ae638",
   "metadata": {},
   "outputs": [],
   "source": [
    "y = 150"
   ]
  },
  {
   "cell_type": "code",
   "execution_count": 5,
   "id": "1d542c5e-2368-45a0-85f9-cb2d0c69e53e",
   "metadata": {},
   "outputs": [
    {
     "data": {
      "text/plain": [
       "100"
      ]
     },
     "execution_count": 5,
     "metadata": {},
     "output_type": "execute_result"
    }
   ],
   "source": [
    "y - x"
   ]
  },
  {
   "cell_type": "code",
   "execution_count": 6,
   "id": "5b728489-8c2f-4011-a0a1-b003e0437f99",
   "metadata": {},
   "outputs": [
    {
     "data": {
      "text/plain": [
       "100"
      ]
     },
     "execution_count": 6,
     "metadata": {},
     "output_type": "execute_result"
    }
   ],
   "source": [
    "x * 2"
   ]
  },
  {
   "cell_type": "markdown",
   "id": "578ba94b-4c59-465b-aa9e-b4a48b4e181d",
   "metadata": {},
   "source": [
    "### 2."
   ]
  },
  {
   "cell_type": "code",
   "execution_count": 17,
   "id": "d85f36ac-d5c4-49fe-9db3-20a9bb2c71d8",
   "metadata": {},
   "outputs": [],
   "source": [
    "z = 6.123"
   ]
  },
  {
   "cell_type": "code",
   "execution_count": 8,
   "id": "fd674b45-30ad-4bb5-8c63-6d6e303d189b",
   "metadata": {},
   "outputs": [
    {
     "data": {
      "text/plain": [
       "float"
      ]
     },
     "execution_count": 8,
     "metadata": {},
     "output_type": "execute_result"
    }
   ],
   "source": [
    "type(z)"
   ]
  },
  {
   "cell_type": "code",
   "execution_count": 9,
   "id": "a8bbde5d-628c-4d93-bbf6-62749968d780",
   "metadata": {},
   "outputs": [],
   "source": [
    "a = 2.345"
   ]
  },
  {
   "cell_type": "code",
   "execution_count": 10,
   "id": "cfc1b646-b066-4313-a693-237766bffb85",
   "metadata": {},
   "outputs": [
    {
     "data": {
      "text/plain": [
       "float"
      ]
     },
     "execution_count": 10,
     "metadata": {},
     "output_type": "execute_result"
    }
   ],
   "source": [
    "type(a)"
   ]
  },
  {
   "cell_type": "code",
   "execution_count": 11,
   "id": "0c5c8455-b16e-4fd3-9db0-9a07adb08a5a",
   "metadata": {},
   "outputs": [
    {
     "data": {
      "text/plain": [
       "2.6110874200426437"
      ]
     },
     "execution_count": 11,
     "metadata": {},
     "output_type": "execute_result"
    }
   ],
   "source": [
    "z/a"
   ]
  },
  {
   "cell_type": "markdown",
   "id": "417d1c91-b968-440f-8d46-cce7af76af72",
   "metadata": {},
   "source": [
    "### 3."
   ]
  },
  {
   "cell_type": "code",
   "execution_count": 12,
   "id": "08f4ebd4-fc52-498f-9f57-813d5a5c9bd4",
   "metadata": {},
   "outputs": [],
   "source": [
    "b = 'Hello, '"
   ]
  },
  {
   "cell_type": "code",
   "execution_count": 13,
   "id": "1f87702b-89bf-46f9-8e6c-9e2ddcb21d87",
   "metadata": {},
   "outputs": [],
   "source": [
    "c = 'Ankur!'"
   ]
  },
  {
   "cell_type": "code",
   "execution_count": 14,
   "id": "3c8b8f99-53b5-437b-9d24-f5f3507ff6a8",
   "metadata": {},
   "outputs": [
    {
     "data": {
      "text/plain": [
       "'Hello, Ankur!'"
      ]
     },
     "execution_count": 14,
     "metadata": {},
     "output_type": "execute_result"
    }
   ],
   "source": [
    "b + c"
   ]
  },
  {
   "cell_type": "markdown",
   "id": "a171cea0-f5d4-44ff-9ce5-37e5c2b31e41",
   "metadata": {},
   "source": [
    "### Bonus"
   ]
  },
  {
   "cell_type": "code",
   "execution_count": 18,
   "id": "11079a8c-a298-4104-b273-249b6e47f811",
   "metadata": {},
   "outputs": [],
   "source": [
    "d = 'cf'"
   ]
  },
  {
   "cell_type": "code",
   "execution_count": 19,
   "id": "1f03e520-3f59-4de1-8a96-3f47a06d425c",
   "metadata": {},
   "outputs": [
    {
     "data": {
      "text/plain": [
       "'cfcfcfcfcfcfcfcfcfcfcfcfcfcfcfcfcfcfcfcfcfcfcfcfcfcfcfcfcfcfcfcfcfcfcfcfcfcfcfcfcfcfcfcfcfcfcfcfcfcfcfcfcfcfcfcfcfcfcfcfcfcfcfcfcfcfcfcfcfcfcfcfcfcfcfcfcfcfcfcfcfcfcfcfcfcfcfcfcfcfcfcfcfcfcfcfcfcfcfcf'"
      ]
     },
     "execution_count": 19,
     "metadata": {},
     "output_type": "execute_result"
    }
   ],
   "source": [
    "d * 100"
   ]
  }
 ],
 "metadata": {
  "kernelspec": {
   "display_name": "Python 3 (ipykernel)",
   "language": "python",
   "name": "python3"
  },
  "language_info": {
   "codemirror_mode": {
    "name": "ipython",
    "version": 3
   },
   "file_extension": ".py",
   "mimetype": "text/x-python",
   "name": "python",
   "nbconvert_exporter": "python",
   "pygments_lexer": "ipython3",
   "version": "3.11.7"
  }
 },
 "nbformat": 4,
 "nbformat_minor": 5
}
