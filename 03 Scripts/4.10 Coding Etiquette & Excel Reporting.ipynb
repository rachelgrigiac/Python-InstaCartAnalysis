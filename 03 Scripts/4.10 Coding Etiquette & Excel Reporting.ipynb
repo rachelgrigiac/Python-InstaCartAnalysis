{
 "cells": [
  {
   "cell_type": "markdown",
   "id": "99c91662-85ae-455a-8854-4d8964f0c98d",
   "metadata": {},
   "source": [
    "# 4.10 Coding Etiquette & Excel Reporting"
   ]
  },
  {
   "cell_type": "code",
   "execution_count": 1,
   "id": "dc74964b-fa4f-41f7-a54e-f44d11383bad",
   "metadata": {},
   "outputs": [],
   "source": [
    "# Install data libraries\n",
    "import pandas as pd\n",
    "import numpy as np\n",
    "import os\n",
    "import matplotlib.pyplot as plt\n",
    "import seaborn as sns\n",
    "import scipy"
   ]
  },
  {
   "cell_type": "markdown",
   "id": "31c52fa2-0398-4552-830b-d4c64db608c5",
   "metadata": {},
   "source": [
    "## 1. Import data sets"
   ]
  },
  {
   "cell_type": "code",
   "execution_count": 2,
   "id": "cf08c8a6-17c7-435b-9d5b-470f4da80f14",
   "metadata": {},
   "outputs": [],
   "source": [
    "path = r'C:\\Users\\julia\\anaconda3\\Instacart Basket Analysis'"
   ]
  },
  {
   "cell_type": "code",
   "execution_count": 5,
   "id": "e4e0fa9a-ca3f-423e-be42-17bfd3bf44ad",
   "metadata": {},
   "outputs": [],
   "source": [
    "df_merged = pd.read_pickle(os.path.join(path, '02 Data', 'Prepared Data', 'merged_data.pkl'))"
   ]
  },
  {
   "cell_type": "markdown",
   "id": "4e72456f-1ede-4fa5-8974-c7ff147e3a22",
   "metadata": {},
   "source": [
    "## 2. Security implications"
   ]
  },
  {
   "cell_type": "code",
   "execution_count": 9,
   "id": "c05bf6e5-b7f1-46a3-81e2-25d9dd460422",
   "metadata": {},
   "outputs": [
    {
     "data": {
      "text/html": [
       "<div>\n",
       "<style scoped>\n",
       "    .dataframe tbody tr th:only-of-type {\n",
       "        vertical-align: middle;\n",
       "    }\n",
       "\n",
       "    .dataframe tbody tr th {\n",
       "        vertical-align: top;\n",
       "    }\n",
       "\n",
       "    .dataframe thead th {\n",
       "        text-align: right;\n",
       "    }\n",
       "</style>\n",
       "<table border=\"1\" class=\"dataframe\">\n",
       "  <thead>\n",
       "    <tr style=\"text-align: right;\">\n",
       "      <th></th>\n",
       "      <th>user_id</th>\n",
       "      <th>First Name</th>\n",
       "      <th>Surname</th>\n",
       "      <th>Gender</th>\n",
       "      <th>STATE</th>\n",
       "      <th>Age</th>\n",
       "      <th>date_joined</th>\n",
       "      <th>n_dependants</th>\n",
       "      <th>fam_status</th>\n",
       "      <th>income</th>\n",
       "      <th>...</th>\n",
       "      <th>price_range_loc</th>\n",
       "      <th>busiest_day</th>\n",
       "      <th>busiest_days</th>\n",
       "      <th>busiest_period_of_day</th>\n",
       "      <th>max_order</th>\n",
       "      <th>loyalty_flag</th>\n",
       "      <th>mean_product_price</th>\n",
       "      <th>spending_flag</th>\n",
       "      <th>median_days_between_orders</th>\n",
       "      <th>order_frequency</th>\n",
       "    </tr>\n",
       "  </thead>\n",
       "  <tbody>\n",
       "    <tr>\n",
       "      <th>0</th>\n",
       "      <td>2423</td>\n",
       "      <td>Scott</td>\n",
       "      <td>Webster</td>\n",
       "      <td>Male</td>\n",
       "      <td>New Mexico</td>\n",
       "      <td>40</td>\n",
       "      <td>1/6/2017</td>\n",
       "      <td>3</td>\n",
       "      <td>married</td>\n",
       "      <td>52958</td>\n",
       "      <td>...</td>\n",
       "      <td>Low-range product</td>\n",
       "      <td>Regularly busy</td>\n",
       "      <td>Busiest days</td>\n",
       "      <td>Most orders</td>\n",
       "      <td>7</td>\n",
       "      <td>New customer</td>\n",
       "      <td>7.404762</td>\n",
       "      <td>Low spender</td>\n",
       "      <td>11.0</td>\n",
       "      <td>Regular customer</td>\n",
       "    </tr>\n",
       "  </tbody>\n",
       "</table>\n",
       "<p>1 rows × 35 columns</p>\n",
       "</div>"
      ],
      "text/plain": [
       "   user_id First Name  Surname Gender       STATE  Age date_joined  \\\n",
       "0     2423      Scott  Webster   Male  New Mexico   40    1/6/2017   \n",
       "\n",
       "   n_dependants fam_status  income  ...    price_range_loc     busiest_day  \\\n",
       "0             3    married   52958  ...  Low-range product  Regularly busy   \n",
       "\n",
       "   busiest_days  busiest_period_of_day  max_order  loyalty_flag  \\\n",
       "0  Busiest days            Most orders          7  New customer   \n",
       "\n",
       "   mean_product_price spending_flag  median_days_between_orders  \\\n",
       "0            7.404762   Low spender                        11.0   \n",
       "\n",
       "    order_frequency  \n",
       "0  Regular customer  \n",
       "\n",
       "[1 rows x 35 columns]"
      ]
     },
     "execution_count": 9,
     "metadata": {},
     "output_type": "execute_result"
    }
   ],
   "source": [
    "df_merged.head(1)"
   ]
  },
  {
   "cell_type": "markdown",
   "id": "ac8a7f7f-295b-43e3-a826-47240504a435",
   "metadata": {},
   "source": [
    "There are columns that refer to client first and surnames, as well as gender, state, age, family status and number of dependants. These columns are personally identifiable information (PII)."
   ]
  },
  {
   "cell_type": "code",
   "execution_count": 15,
   "id": "956b7ca7-2a2e-4de8-9c06-664f7b55b35d",
   "metadata": {},
   "outputs": [],
   "source": [
    "# Dropping personal information\n",
    "df_merged.drop(columns=['First Name','Surname'], inplace= True)"
   ]
  },
  {
   "cell_type": "code",
   "execution_count": 16,
   "id": "91cc1439-ccd5-4ad0-937d-6190d38c71c1",
   "metadata": {},
   "outputs": [
    {
     "data": {
      "text/html": [
       "<div>\n",
       "<style scoped>\n",
       "    .dataframe tbody tr th:only-of-type {\n",
       "        vertical-align: middle;\n",
       "    }\n",
       "\n",
       "    .dataframe tbody tr th {\n",
       "        vertical-align: top;\n",
       "    }\n",
       "\n",
       "    .dataframe thead th {\n",
       "        text-align: right;\n",
       "    }\n",
       "</style>\n",
       "<table border=\"1\" class=\"dataframe\">\n",
       "  <thead>\n",
       "    <tr style=\"text-align: right;\">\n",
       "      <th></th>\n",
       "      <th>user_id</th>\n",
       "      <th>Gender</th>\n",
       "      <th>STATE</th>\n",
       "      <th>Age</th>\n",
       "      <th>date_joined</th>\n",
       "      <th>n_dependants</th>\n",
       "      <th>fam_status</th>\n",
       "      <th>income</th>\n",
       "      <th>Unnamed: 0</th>\n",
       "      <th>product_id</th>\n",
       "      <th>...</th>\n",
       "      <th>price_range_loc</th>\n",
       "      <th>busiest_day</th>\n",
       "      <th>busiest_days</th>\n",
       "      <th>busiest_period_of_day</th>\n",
       "      <th>max_order</th>\n",
       "      <th>loyalty_flag</th>\n",
       "      <th>mean_product_price</th>\n",
       "      <th>spending_flag</th>\n",
       "      <th>median_days_between_orders</th>\n",
       "      <th>order_frequency</th>\n",
       "    </tr>\n",
       "  </thead>\n",
       "  <tbody>\n",
       "    <tr>\n",
       "      <th>0</th>\n",
       "      <td>2423</td>\n",
       "      <td>Male</td>\n",
       "      <td>New Mexico</td>\n",
       "      <td>40</td>\n",
       "      <td>1/6/2017</td>\n",
       "      <td>3</td>\n",
       "      <td>married</td>\n",
       "      <td>52958</td>\n",
       "      <td>6489</td>\n",
       "      <td>6489</td>\n",
       "      <td>...</td>\n",
       "      <td>Low-range product</td>\n",
       "      <td>Regularly busy</td>\n",
       "      <td>Busiest days</td>\n",
       "      <td>Most orders</td>\n",
       "      <td>7</td>\n",
       "      <td>New customer</td>\n",
       "      <td>7.404762</td>\n",
       "      <td>Low spender</td>\n",
       "      <td>11.0</td>\n",
       "      <td>Regular customer</td>\n",
       "    </tr>\n",
       "  </tbody>\n",
       "</table>\n",
       "<p>1 rows × 33 columns</p>\n",
       "</div>"
      ],
      "text/plain": [
       "   user_id Gender       STATE  Age date_joined  n_dependants fam_status  \\\n",
       "0     2423   Male  New Mexico   40    1/6/2017             3    married   \n",
       "\n",
       "   income  Unnamed: 0  product_id  ...    price_range_loc     busiest_day  \\\n",
       "0   52958        6489        6489  ...  Low-range product  Regularly busy   \n",
       "\n",
       "   busiest_days  busiest_period_of_day  max_order  loyalty_flag  \\\n",
       "0  Busiest days            Most orders          7  New customer   \n",
       "\n",
       "   mean_product_price  spending_flag  median_days_between_orders  \\\n",
       "0            7.404762    Low spender                        11.0   \n",
       "\n",
       "    order_frequency  \n",
       "0  Regular customer  \n",
       "\n",
       "[1 rows x 33 columns]"
      ]
     },
     "execution_count": 16,
     "metadata": {},
     "output_type": "execute_result"
    }
   ],
   "source": [
    "df_merged.head(1)"
   ]
  },
  {
   "cell_type": "markdown",
   "id": "4aa51f77-6808-48d5-8e09-55fd542c72a5",
   "metadata": {},
   "source": [
    "The data is now unpersonalised and therefore secure."
   ]
  },
  {
   "cell_type": "markdown",
   "id": "ca64f892-6e0c-4580-bfdb-86ff7c1af4d2",
   "metadata": {},
   "source": [
    "## 3. Customer behavior in different geographic areas"
   ]
  },
  {
   "cell_type": "code",
   "execution_count": 18,
   "id": "062fc733-0102-4059-8d71-1b9f8dfa4f56",
   "metadata": {},
   "outputs": [],
   "source": [
    "# Creating a region column and grouping states Northeast\n",
    "df_merged.loc[df_merged['STATE'].isin(['Maine','New Hampshire','Vermont','Massachusetts','Rhode Island','Connecticut','New York','Pennsylvania',\n",
    "'New Jersey']),'region'] = 'Northeast'"
   ]
  },
  {
   "cell_type": "code",
   "execution_count": 19,
   "id": "c8d2cfc2-69d5-4b02-83ab-dc90fbb3a12c",
   "metadata": {},
   "outputs": [],
   "source": [
    "# Creating a region column and grouping states Midwest\n",
    "df_merged.loc[df_merged['STATE'].isin(['Wisconsin','Michigan','Illinois','Indiana','Ohio','North Dakota','South Dakota','Nebraska',\n",
    "'Kansas','Minnesota','Iowa','Missouri']),'region'] = 'Midwest'"
   ]
  },
  {
   "cell_type": "code",
   "execution_count": 20,
   "id": "9a32e1ab-233e-4905-9d96-d646e6cf1c87",
   "metadata": {},
   "outputs": [],
   "source": [
    "# Creating a region column and grouping states South\n",
    "df_merged.loc[df_merged['STATE'].isin(['Delaware','Maryland','District of Columbia','Virginia','West Virginia','North Carolina','South Carolina','Georgia',\n",
    "'Florida','Kentucky','Tennessee','Mississippi','Alabama','Oklahoma','Texas','Arkansas','Louisiana']),'region'] = 'South'"
   ]
  },
  {
   "cell_type": "code",
   "execution_count": 21,
   "id": "7eea2af2-3867-4e73-bda5-75d6af4d6c67",
   "metadata": {},
   "outputs": [],
   "source": [
    "# Creating a region column and grouping states Mountain\n",
    "df_merged.loc[df_merged['STATE'].isin(['Idaho','Montana','Wyoming','Nevada','Utah','Colorado','Arizona','New Mexico',\n",
    "'Alaska','Washington','Oregon','California','Hawaii']),'region'] = 'Mountain'"
   ]
  },
  {
   "cell_type": "code",
   "execution_count": 23,
   "id": "db124b17-715d-4652-b0de-22c1e766db52",
   "metadata": {},
   "outputs": [
    {
     "data": {
      "text/plain": [
       "region\n",
       "South        1273\n",
       "Midwest       929\n",
       "Northeast     804\n",
       "Mountain      800\n",
       "Name: count, dtype: int64"
      ]
     },
     "execution_count": 23,
     "metadata": {},
     "output_type": "execute_result"
    }
   ],
   "source": [
    "# Checking if all columns have been attributed a value\n",
    "df_merged['region'].value_counts(dropna= False)"
   ]
  },
  {
   "cell_type": "code",
   "execution_count": 31,
   "id": "2fc8ebd7-9760-4409-b2d2-dd7706c64fee",
   "metadata": {},
   "outputs": [],
   "source": [
    "# Determining whether there is a difference in spending habits\n",
    "df_avg_spend = df_merged.groupby(['order_frequency'])['mean_product_price'].mean()"
   ]
  },
  {
   "cell_type": "code",
   "execution_count": 34,
   "id": "0e92e929-d007-4106-b071-be75652738cc",
   "metadata": {},
   "outputs": [],
   "source": [
    "df_avg_spend.drop(index='nan',inplace=True)"
   ]
  },
  {
   "cell_type": "code",
   "execution_count": 37,
   "id": "2d3ee933-634d-40e1-b4d7-e2293ef6837b",
   "metadata": {},
   "outputs": [
    {
     "data": {
      "text/plain": [
       "Text(0, 0.5, 'Avg per item')"
      ]
     },
     "execution_count": 37,
     "metadata": {},
     "output_type": "execute_result"
    },
    {
     "data": {
      "image/png": "[encoded data removed]",
      "text/plain": [
       "<Figure size 640x480 with 1 Axes>"
      ]
     },
     "metadata": {},
     "output_type": "display_data"
    }
   ],
   "source": [
    "bar_avg_spend = df_avg_spend.plot.bar()\n",
    "plt.title('Average spending habits per item by customer')\n",
    "plt.xlabel('Customer frequency')\n",
    "plt.ylabel('Avg per item')"
   ]
  },
  {
   "cell_type": "code",
   "execution_count": 40,
   "id": "02dd30bc-9e97-4150-bfa9-56ec9a556ecf",
   "metadata": {},
   "outputs": [
    {
     "data": {
      "text/html": [
       "<div>\n",
       "<style scoped>\n",
       "    .dataframe tbody tr th:only-of-type {\n",
       "        vertical-align: middle;\n",
       "    }\n",
       "\n",
       "    .dataframe tbody tr th {\n",
       "        vertical-align: top;\n",
       "    }\n",
       "\n",
       "    .dataframe thead th {\n",
       "        text-align: right;\n",
       "    }\n",
       "</style>\n",
       "<table border=\"1\" class=\"dataframe\">\n",
       "  <thead>\n",
       "    <tr style=\"text-align: right;\">\n",
       "      <th></th>\n",
       "      <th>region</th>\n",
       "      <th>mean_product_price</th>\n",
       "    </tr>\n",
       "  </thead>\n",
       "  <tbody>\n",
       "    <tr>\n",
       "      <th>0</th>\n",
       "      <td>Midwest</td>\n",
       "      <td>24.019268</td>\n",
       "    </tr>\n",
       "    <tr>\n",
       "      <th>1</th>\n",
       "      <td>Mountain</td>\n",
       "      <td>7.719750</td>\n",
       "    </tr>\n",
       "    <tr>\n",
       "      <th>2</th>\n",
       "      <td>Northeast</td>\n",
       "      <td>7.623881</td>\n",
       "    </tr>\n",
       "    <tr>\n",
       "      <th>3</th>\n",
       "      <td>South</td>\n",
       "      <td>7.728044</td>\n",
       "    </tr>\n",
       "  </tbody>\n",
       "</table>\n",
       "</div>"
      ],
      "text/plain": [
       "      region  mean_product_price\n",
       "0    Midwest           24.019268\n",
       "1   Mountain            7.719750\n",
       "2  Northeast            7.623881\n",
       "3      South            7.728044"
      ]
     },
     "execution_count": 40,
     "metadata": {},
     "output_type": "execute_result"
    }
   ],
   "source": [
    "# Determining whether there is a difference in spending habits between different regions\n",
    "df_spend_region = df_merged.groupby(['region'])['mean_product_price'].mean()\n",
    "df_spend_region.reset_index()"
   ]
  },
  {
   "cell_type": "code",
   "execution_count": 41,
   "id": "80eb1bd4-faa0-4bd6-90d1-f1dc8fbcd8bf",
   "metadata": {},
   "outputs": [
    {
     "data": {
      "text/plain": [
       "Text(0.5, 0, 'Region')"
      ]
     },
     "execution_count": 41,
     "metadata": {},
     "output_type": "execute_result"
    },
    {
     "data": {
      "image/png": "[encoded data removed]",
      "text/plain": [
       "<Figure size 640x480 with 1 Axes>"
      ]
     },
     "metadata": {},
     "output_type": "display_data"
    }
   ],
   "source": [
    "bar_spend_region = df_spend_region.plot.bar(ylabel='avg.spend')\n",
    "plt.title('Regional Average Spending habits per item')\n",
    "plt.ylabel('Avg per item')\n",
    "plt.xlabel('Region')"
   ]
  },
  {
   "cell_type": "code",
   "execution_count": 99,
   "id": "74c26574-bf7e-4f0d-bccc-b1b35603ad77",
   "metadata": {},
   "outputs": [],
   "source": [
    "# Export the visualizations\n",
    "bar_spend_region.figure.savefig(os.path.join(path,'04 Analysis','Visualizations','bar_spend_region.png'))"
   ]
  },
  {
   "cell_type": "code",
   "execution_count": 43,
   "id": "44b33848-9772-4549-8286-8fa66632f737",
   "metadata": {},
   "outputs": [],
   "source": [
    "bar_avg_spend.figure.savefig(os.path.join(path,'04 Analysis','Visualizations','bar_avg_spend.png'))"
   ]
  },
  {
   "cell_type": "markdown",
   "id": "c9a1e29b-98d7-4e6c-8a88-87b88e373528",
   "metadata": {},
   "source": [
    "# 4. Exclude low-activity customers"
   ]
  },
  {
   "cell_type": "code",
   "execution_count": 44,
   "id": "c2506590-69ad-40e8-b2ad-dd61dd173ace",
   "metadata": {},
   "outputs": [],
   "source": [
    "# creating exclusion flag column\n",
    "df_merged.loc[df_merged['max_order']>=5, 'exclusion_flag'] = 'Not Excluded'\n",
    "df_merged.loc[df_merged['max_order']<5, 'exclusion_flag'] = 'Excluded'"
   ]
  },
  {
   "cell_type": "code",
   "execution_count": 45,
   "id": "7a0af422-2d4e-46db-ba87-c0da75660896",
   "metadata": {},
   "outputs": [
    {
     "data": {
      "text/plain": [
       "exclusion_flag\n",
       "Not Excluded    3049\n",
       "Excluded         757\n",
       "Name: count, dtype: int64"
      ]
     },
     "execution_count": 45,
     "metadata": {},
     "output_type": "execute_result"
    }
   ],
   "source": [
    "df_merged['exclusion_flag'].value_counts()"
   ]
  },
  {
   "cell_type": "code",
   "execution_count": 46,
   "id": "b998f2e9-5a0f-4f9b-b508-fcafedc2a825",
   "metadata": {},
   "outputs": [],
   "source": [
    "# Create data frame with only the excluded data\n",
    "df_merged_excluded = df_merged[df_merged['exclusion_flag']=='Excluded']"
   ]
  },
  {
   "cell_type": "code",
   "execution_count": 47,
   "id": "60b5bb4b-f2b9-4fe4-b8bb-95f76c6b7ddd",
   "metadata": {},
   "outputs": [],
   "source": [
    "# Create data frame with only the not-excluded data\n",
    "df_merged_not_excluded =  df_merged[df_merged['exclusion_flag']=='Not Excluded']"
   ]
  },
  {
   "cell_type": "code",
   "execution_count": 48,
   "id": "36f4e4ba-e40f-4b50-8820-0f1f9d701470",
   "metadata": {},
   "outputs": [
    {
     "data": {
      "text/plain": [
       "True"
      ]
     },
     "execution_count": 48,
     "metadata": {},
     "output_type": "execute_result"
    }
   ],
   "source": [
    "len(df_merged_excluded) + len (df_merged_not_excluded) == len(df_merged)"
   ]
  },
  {
   "cell_type": "code",
   "execution_count": 49,
   "id": "f58749fd-6835-4c81-8d96-222ea5d27c8b",
   "metadata": {},
   "outputs": [],
   "source": [
    "# Export new data frame\n",
    "df_merged_not_excluded.to_pickle(os.path.join(path,'02 Data','Prepared Data','orders_products_not_excluded'))"
   ]
  },
  {
   "cell_type": "markdown",
   "id": "85ef4de3-a4cc-44ae-9d52-4df28ecbe803",
   "metadata": {},
   "source": [
    "# 5. Customer profiling"
   ]
  },
  {
   "cell_type": "code",
   "execution_count": 50,
   "id": "5219b93a-46dd-44de-9ac9-ac80b6846e5e",
   "metadata": {},
   "outputs": [
    {
     "name": "stderr",
     "output_type": "stream",
     "text": [
      "C:\\Users\\julia\\AppData\\Local\\Temp\\ipykernel_36256\\2697743029.py:2: SettingWithCopyWarning: \n",
      "A value is trying to be set on a copy of a slice from a DataFrame.\n",
      "Try using .loc[row_indexer,col_indexer] = value instead\n",
      "\n",
      "See the caveats in the documentation: https://pandas.pydata.org/pandas-docs/stable/user_guide/indexing.html#returning-a-view-versus-a-copy\n",
      "  df_merged_not_excluded.loc[df_merged_not_excluded['income'] < 50000,'income_type'] = 'Low'\n"
     ]
    }
   ],
   "source": [
    "# Creating income categories\n",
    "df_merged_not_excluded.loc[df_merged_not_excluded['income'] < 50000,'income_type'] = 'Low'\n",
    "df_merged_not_excluded.loc[(df_merged_not_excluded['income'] >= 50000) & (df_merged_not_excluded['income']< 100000),'income_type'] = 'Middle'\n",
    "df_merged_not_excluded.loc[df_merged_not_excluded['income']>= 100000,'income_type'] = 'High'"
   ]
  },
  {
   "cell_type": "code",
   "execution_count": 53,
   "id": "1d14f31b-2bb5-4a1e-9a7d-f1cd5c17d88b",
   "metadata": {},
   "outputs": [],
   "source": [
    "# Creating age categories\n",
    "df_merged_not_excluded.loc[df_merged_not_excluded['Age']< 40,'age_type'] = 'Young Adult'\n",
    "df_merged_not_excluded.loc[(df_merged_not_excluded['Age'] >= 40) & (df_merged_not_excluded['Age']< 65),'age_type'] = 'Middle Aged'\n",
    "df_merged_not_excluded.loc[df_merged_not_excluded['Age']>= 65,'age_type'] = 'Senior'"
   ]
  },
  {
   "cell_type": "code",
   "execution_count": 55,
   "id": "c8cc0869-4751-42ca-80ad-13777262a731",
   "metadata": {},
   "outputs": [
    {
     "name": "stderr",
     "output_type": "stream",
     "text": [
      "C:\\Users\\julia\\AppData\\Local\\Temp\\ipykernel_36256\\2365163431.py:2: SettingWithCopyWarning: \n",
      "A value is trying to be set on a copy of a slice from a DataFrame.\n",
      "Try using .loc[row_indexer,col_indexer] = value instead\n",
      "\n",
      "See the caveats in the documentation: https://pandas.pydata.org/pandas-docs/stable/user_guide/indexing.html#returning-a-view-versus-a-copy\n",
      "  df_merged_not_excluded['dependant_type'] = 'No Dependants'\n"
     ]
    }
   ],
   "source": [
    "# Creating n_dependants categories\n",
    "df_merged_not_excluded['dependant_type'] = 'No Dependants'\n",
    "df_merged_not_excluded.loc[df_merged_not_excluded['n_dependants']> 0,'dependant_type'] = 'Has Dependants'"
   ]
  },
  {
   "cell_type": "markdown",
   "id": "09f6fc47-99bd-40bc-8863-fb752a2d718c",
   "metadata": {},
   "source": [
    "## 6. Visualizations"
   ]
  },
  {
   "cell_type": "code",
   "execution_count": 64,
   "id": "2e7ab614-fc54-4ab6-98d5-de7a3b9ee1ad",
   "metadata": {},
   "outputs": [
    {
     "data": {
      "text/plain": [
       "(-1.0999993360290108,\n",
       " 1.0999999683823338,\n",
       " -1.0999997564115975,\n",
       " 1.0999999528417266)"
      ]
     },
     "execution_count": 64,
     "metadata": {},
     "output_type": "execute_result"
    },
    {
     "data": {
      "image/png": "[encoded data removed]",
      "text/plain": [
       "<Figure size 800x600 with 1 Axes>"
      ]
     },
     "metadata": {},
     "output_type": "display_data"
    }
   ],
   "source": [
    "# Calculate percentage distribution of loyalty\n",
    "loyalty_distribution = (df_merged_not_excluded['loyalty_flag'].value_counts(normalize=True) * 100).sort_index()\n",
    "plt.figure(figsize=(8, 6))  # Set figure size\n",
    "loyalty_pie = plt.pie(loyalty_distribution, labels=loyalty_distribution.index, autopct='%1.1f%%', colors=['yellow', 'orange', 'pink'])\n",
    "plt.title('Loyalty Distribution', fontsize=14)\n",
    "plt.axis('equal')"
   ]
  },
  {
   "cell_type": "code",
   "execution_count": 100,
   "id": "84cb8153-fcd3-45c0-9e3e-556342716e23",
   "metadata": {},
   "outputs": [
    {
     "data": {
      "text/plain": [
       "<Figure size 640x480 with 0 Axes>"
      ]
     },
     "metadata": {},
     "output_type": "display_data"
    }
   ],
   "source": [
    "# Export the pie chart\n",
    "plt.savefig(os.path.join(path, '04 Analysis', 'Visualizations', 'pie_loyalty.png'))"
   ]
  },
  {
   "cell_type": "markdown",
   "id": "7a7672f2-9035-4c97-aece-ca79ee4f4646",
   "metadata": {},
   "source": [
    "## 7. Aggregate the max, mean, and min variables on a customer-profile level"
   ]
  },
  {
   "cell_type": "code",
   "execution_count": 67,
   "id": "652a3c8c-5fb0-48d4-892f-aad7d4f8eb82",
   "metadata": {},
   "outputs": [
    {
     "name": "stderr",
     "output_type": "stream",
     "text": [
      "C:\\Users\\julia\\AppData\\Local\\Temp\\ipykernel_36256\\1705628768.py:1: FutureWarning: The provided callable <function sum at 0x000002C494ED4CC0> is currently using SeriesGroupBy.sum. In a future version of pandas, the provided callable will be used directly. To keep current behavior pass the string \"sum\" instead.\n",
      "  df_merged_not_excluded['total_expenditure']= df_merged_not_excluded.groupby('user_id')['prices'].transform(np.sum)\n",
      "C:\\Users\\julia\\AppData\\Local\\Temp\\ipykernel_36256\\1705628768.py:1: SettingWithCopyWarning: \n",
      "A value is trying to be set on a copy of a slice from a DataFrame.\n",
      "Try using .loc[row_indexer,col_indexer] = value instead\n",
      "\n",
      "See the caveats in the documentation: https://pandas.pydata.org/pandas-docs/stable/user_guide/indexing.html#returning-a-view-versus-a-copy\n",
      "  df_merged_not_excluded['total_expenditure']= df_merged_not_excluded.groupby('user_id')['prices'].transform(np.sum)\n"
     ]
    }
   ],
   "source": [
    "df_merged_not_excluded['total_expenditure']= df_merged_not_excluded.groupby('user_id')['prices'].transform(np.sum)"
   ]
  },
  {
   "cell_type": "code",
   "execution_count": 71,
   "id": "420489c9-ac0b-4ae3-a1ec-f85d474892b8",
   "metadata": {},
   "outputs": [
    {
     "ename": "NameError",
     "evalue": "name 'total_expenditure' is not defined",
     "output_type": "error",
     "traceback": [
      "\u001b[1;31m---------------------------------------------------------------------------\u001b[0m",
      "\u001b[1;31mNameError\u001b[0m                                 Traceback (most recent call last)",
      "Cell \u001b[1;32mIn[71], line 1\u001b[0m\n\u001b[1;32m----> 1\u001b[0m total_expenditure\n",
      "\u001b[1;31mNameError\u001b[0m: name 'total_expenditure' is not defined"
     ]
    }
   ],
   "source": [
    "total_expenditure"
   ]
  },
  {
   "cell_type": "code",
   "execution_count": 68,
   "id": "146d0ae8-2b3b-4f08-b3ff-669efbe0134a",
   "metadata": {},
   "outputs": [
    {
     "data": {
      "text/html": [
       "<div>\n",
       "<style scoped>\n",
       "    .dataframe tbody tr th:only-of-type {\n",
       "        vertical-align: middle;\n",
       "    }\n",
       "\n",
       "    .dataframe tbody tr th {\n",
       "        vertical-align: top;\n",
       "    }\n",
       "\n",
       "    .dataframe thead tr th {\n",
       "        text-align: left;\n",
       "    }\n",
       "\n",
       "    .dataframe thead tr:last-of-type th {\n",
       "        text-align: right;\n",
       "    }\n",
       "</style>\n",
       "<table border=\"1\" class=\"dataframe\">\n",
       "  <thead>\n",
       "    <tr>\n",
       "      <th></th>\n",
       "      <th colspan=\"3\" halign=\"left\">total_expenditure</th>\n",
       "      <th colspan=\"3\" halign=\"left\">order_number</th>\n",
       "    </tr>\n",
       "    <tr>\n",
       "      <th></th>\n",
       "      <th>mean</th>\n",
       "      <th>min</th>\n",
       "      <th>max</th>\n",
       "      <th>mean</th>\n",
       "      <th>min</th>\n",
       "      <th>max</th>\n",
       "    </tr>\n",
       "    <tr>\n",
       "      <th>loyalty_flag</th>\n",
       "      <th></th>\n",
       "      <th></th>\n",
       "      <th></th>\n",
       "      <th></th>\n",
       "      <th></th>\n",
       "      <th></th>\n",
       "    </tr>\n",
       "  </thead>\n",
       "  <tbody>\n",
       "    <tr>\n",
       "      <th>Loyal customer</th>\n",
       "      <td>288.652621</td>\n",
       "      <td>6.8</td>\n",
       "      <td>854.3</td>\n",
       "      <td>52.466019</td>\n",
       "      <td>23</td>\n",
       "      <td>92</td>\n",
       "    </tr>\n",
       "    <tr>\n",
       "      <th>New customer</th>\n",
       "      <td>133.792576</td>\n",
       "      <td>1.4</td>\n",
       "      <td>340.7</td>\n",
       "      <td>6.943231</td>\n",
       "      <td>1</td>\n",
       "      <td>10</td>\n",
       "    </tr>\n",
       "    <tr>\n",
       "      <th>Regular customer</th>\n",
       "      <td>301.702658</td>\n",
       "      <td>1.2</td>\n",
       "      <td>15024.5</td>\n",
       "      <td>21.509271</td>\n",
       "      <td>1</td>\n",
       "      <td>40</td>\n",
       "    </tr>\n",
       "  </tbody>\n",
       "</table>\n",
       "</div>"
      ],
      "text/plain": [
       "                 total_expenditure               order_number        \n",
       "                              mean  min      max         mean min max\n",
       "loyalty_flag                                                         \n",
       "Loyal customer          288.652621  6.8    854.3    52.466019  23  92\n",
       "New customer            133.792576  1.4    340.7     6.943231   1  10\n",
       "Regular customer        301.702658  1.2  15024.5    21.509271   1  40"
      ]
     },
     "execution_count": 68,
     "metadata": {},
     "output_type": "execute_result"
    }
   ],
   "source": [
    "df_merged_not_excluded.groupby('loyalty_flag').agg({'total_expenditure': ['mean', 'min', 'max'], 'max_number': ['mean', 'min', 'max']})"
   ]
  },
  {
   "cell_type": "code",
   "execution_count": 72,
   "id": "60ba482d-dc44-48c6-b12a-f0df16db6419",
   "metadata": {},
   "outputs": [
    {
     "data": {
      "text/html": [
       "<div>\n",
       "<style scoped>\n",
       "    .dataframe tbody tr th:only-of-type {\n",
       "        vertical-align: middle;\n",
       "    }\n",
       "\n",
       "    .dataframe tbody tr th {\n",
       "        vertical-align: top;\n",
       "    }\n",
       "\n",
       "    .dataframe thead tr th {\n",
       "        text-align: left;\n",
       "    }\n",
       "\n",
       "    .dataframe thead tr:last-of-type th {\n",
       "        text-align: right;\n",
       "    }\n",
       "</style>\n",
       "<table border=\"1\" class=\"dataframe\">\n",
       "  <thead>\n",
       "    <tr>\n",
       "      <th></th>\n",
       "      <th colspan=\"3\" halign=\"left\">total_expenditure</th>\n",
       "      <th colspan=\"3\" halign=\"left\">order_number</th>\n",
       "    </tr>\n",
       "    <tr>\n",
       "      <th></th>\n",
       "      <th>mean</th>\n",
       "      <th>min</th>\n",
       "      <th>max</th>\n",
       "      <th>mean</th>\n",
       "      <th>min</th>\n",
       "      <th>max</th>\n",
       "    </tr>\n",
       "    <tr>\n",
       "      <th>income_type</th>\n",
       "      <th></th>\n",
       "      <th></th>\n",
       "      <th></th>\n",
       "      <th></th>\n",
       "      <th></th>\n",
       "      <th></th>\n",
       "    </tr>\n",
       "  </thead>\n",
       "  <tbody>\n",
       "    <tr>\n",
       "      <th>High</th>\n",
       "      <td>322.195483</td>\n",
       "      <td>1.4</td>\n",
       "      <td>15024.5</td>\n",
       "      <td>19.255989</td>\n",
       "      <td>1</td>\n",
       "      <td>84</td>\n",
       "    </tr>\n",
       "    <tr>\n",
       "      <th>Low</th>\n",
       "      <td>363.536855</td>\n",
       "      <td>1.2</td>\n",
       "      <td>854.3</td>\n",
       "      <td>29.149877</td>\n",
       "      <td>2</td>\n",
       "      <td>82</td>\n",
       "    </tr>\n",
       "    <tr>\n",
       "      <th>Middle</th>\n",
       "      <td>119.117612</td>\n",
       "      <td>2.4</td>\n",
       "      <td>306.6</td>\n",
       "      <td>23.865368</td>\n",
       "      <td>2</td>\n",
       "      <td>92</td>\n",
       "    </tr>\n",
       "  </tbody>\n",
       "</table>\n",
       "</div>"
      ],
      "text/plain": [
       "            total_expenditure               order_number        \n",
       "                         mean  min      max         mean min max\n",
       "income_type                                                     \n",
       "High               322.195483  1.4  15024.5    19.255989   1  84\n",
       "Low                363.536855  1.2    854.3    29.149877   2  82\n",
       "Middle             119.117612  2.4    306.6    23.865368   2  92"
      ]
     },
     "execution_count": 72,
     "metadata": {},
     "output_type": "execute_result"
    }
   ],
   "source": [
    "df_merged_not_excluded.groupby('income_type').agg({'total_expenditure': ['mean', 'min', 'max'], 'order_number': ['mean', 'min', 'max']})"
   ]
  },
  {
   "cell_type": "code",
   "execution_count": 73,
   "id": "d7cd034d-a726-4e1c-9b97-a8d6a42164c6",
   "metadata": {},
   "outputs": [
    {
     "data": {
      "text/html": [
       "<div>\n",
       "<style scoped>\n",
       "    .dataframe tbody tr th:only-of-type {\n",
       "        vertical-align: middle;\n",
       "    }\n",
       "\n",
       "    .dataframe tbody tr th {\n",
       "        vertical-align: top;\n",
       "    }\n",
       "\n",
       "    .dataframe thead tr th {\n",
       "        text-align: left;\n",
       "    }\n",
       "\n",
       "    .dataframe thead tr:last-of-type th {\n",
       "        text-align: right;\n",
       "    }\n",
       "</style>\n",
       "<table border=\"1\" class=\"dataframe\">\n",
       "  <thead>\n",
       "    <tr>\n",
       "      <th></th>\n",
       "      <th colspan=\"3\" halign=\"left\">total_expenditure</th>\n",
       "      <th colspan=\"3\" halign=\"left\">order_number</th>\n",
       "    </tr>\n",
       "    <tr>\n",
       "      <th></th>\n",
       "      <th>mean</th>\n",
       "      <th>min</th>\n",
       "      <th>max</th>\n",
       "      <th>mean</th>\n",
       "      <th>min</th>\n",
       "      <th>max</th>\n",
       "    </tr>\n",
       "    <tr>\n",
       "      <th>region</th>\n",
       "      <th></th>\n",
       "      <th></th>\n",
       "      <th></th>\n",
       "      <th></th>\n",
       "      <th></th>\n",
       "      <th></th>\n",
       "    </tr>\n",
       "  </thead>\n",
       "  <tbody>\n",
       "    <tr>\n",
       "      <th>Midwest</th>\n",
       "      <td>517.093054</td>\n",
       "      <td>1.4</td>\n",
       "      <td>15024.5</td>\n",
       "      <td>21.463097</td>\n",
       "      <td>2</td>\n",
       "      <td>82</td>\n",
       "    </tr>\n",
       "    <tr>\n",
       "      <th>Mountain</th>\n",
       "      <td>127.259969</td>\n",
       "      <td>4.4</td>\n",
       "      <td>293.3</td>\n",
       "      <td>21.904239</td>\n",
       "      <td>1</td>\n",
       "      <td>70</td>\n",
       "    </tr>\n",
       "    <tr>\n",
       "      <th>Northeast</th>\n",
       "      <td>281.968142</td>\n",
       "      <td>1.9</td>\n",
       "      <td>854.3</td>\n",
       "      <td>24.721239</td>\n",
       "      <td>5</td>\n",
       "      <td>92</td>\n",
       "    </tr>\n",
       "    <tr>\n",
       "      <th>South</th>\n",
       "      <td>124.462800</td>\n",
       "      <td>1.2</td>\n",
       "      <td>340.7</td>\n",
       "      <td>21.703739</td>\n",
       "      <td>1</td>\n",
       "      <td>84</td>\n",
       "    </tr>\n",
       "  </tbody>\n",
       "</table>\n",
       "</div>"
      ],
      "text/plain": [
       "          total_expenditure               order_number        \n",
       "                       mean  min      max         mean min max\n",
       "region                                                        \n",
       "Midwest          517.093054  1.4  15024.5    21.463097   2  82\n",
       "Mountain         127.259969  4.4    293.3    21.904239   1  70\n",
       "Northeast        281.968142  1.9    854.3    24.721239   5  92\n",
       "South            124.462800  1.2    340.7    21.703739   1  84"
      ]
     },
     "execution_count": 73,
     "metadata": {},
     "output_type": "execute_result"
    }
   ],
   "source": [
    "df_merged_not_excluded.groupby('region').agg({'total_expenditure': ['mean', 'min', 'max'], 'order_number': ['mean', 'min', 'max']})"
   ]
  },
  {
   "cell_type": "code",
   "execution_count": 74,
   "id": "1bb8a0b4-e66d-4f71-af93-674a49ae8713",
   "metadata": {},
   "outputs": [
    {
     "data": {
      "text/html": [
       "<div>\n",
       "<style scoped>\n",
       "    .dataframe tbody tr th:only-of-type {\n",
       "        vertical-align: middle;\n",
       "    }\n",
       "\n",
       "    .dataframe tbody tr th {\n",
       "        vertical-align: top;\n",
       "    }\n",
       "\n",
       "    .dataframe thead tr th {\n",
       "        text-align: left;\n",
       "    }\n",
       "\n",
       "    .dataframe thead tr:last-of-type th {\n",
       "        text-align: right;\n",
       "    }\n",
       "</style>\n",
       "<table border=\"1\" class=\"dataframe\">\n",
       "  <thead>\n",
       "    <tr>\n",
       "      <th></th>\n",
       "      <th colspan=\"3\" halign=\"left\">total_expenditure</th>\n",
       "      <th colspan=\"3\" halign=\"left\">order_number</th>\n",
       "    </tr>\n",
       "    <tr>\n",
       "      <th></th>\n",
       "      <th>mean</th>\n",
       "      <th>min</th>\n",
       "      <th>max</th>\n",
       "      <th>mean</th>\n",
       "      <th>min</th>\n",
       "      <th>max</th>\n",
       "    </tr>\n",
       "    <tr>\n",
       "      <th>dependant_type</th>\n",
       "      <th></th>\n",
       "      <th></th>\n",
       "      <th></th>\n",
       "      <th></th>\n",
       "      <th></th>\n",
       "      <th></th>\n",
       "    </tr>\n",
       "  </thead>\n",
       "  <tbody>\n",
       "    <tr>\n",
       "      <th>Has Dependants</th>\n",
       "      <td>281.865391</td>\n",
       "      <td>1.4</td>\n",
       "      <td>15024.5</td>\n",
       "      <td>22.961299</td>\n",
       "      <td>1</td>\n",
       "      <td>84</td>\n",
       "    </tr>\n",
       "    <tr>\n",
       "      <th>No Dependants</th>\n",
       "      <td>156.968290</td>\n",
       "      <td>1.2</td>\n",
       "      <td>447.5</td>\n",
       "      <td>20.680400</td>\n",
       "      <td>1</td>\n",
       "      <td>92</td>\n",
       "    </tr>\n",
       "  </tbody>\n",
       "</table>\n",
       "</div>"
      ],
      "text/plain": [
       "               total_expenditure               order_number        \n",
       "                            mean  min      max         mean min max\n",
       "dependant_type                                                     \n",
       "Has Dependants        281.865391  1.4  15024.5    22.961299   1  84\n",
       "No Dependants         156.968290  1.2    447.5    20.680400   1  92"
      ]
     },
     "execution_count": 74,
     "metadata": {},
     "output_type": "execute_result"
    }
   ],
   "source": [
    "df_merged_not_excluded.groupby('dependant_type').agg({'total_expenditure': ['mean', 'min', 'max'], 'order_number': ['mean', 'min', 'max']})"
   ]
  },
  {
   "cell_type": "markdown",
   "id": "17392cae-4b8f-4c2d-a3ed-5d2613e7ec09",
   "metadata": {},
   "source": [
    "## 8. Compare customer profiles with regions and departments"
   ]
  },
  {
   "cell_type": "code",
   "execution_count": 90,
   "id": "ae72c74b-cb8a-47c8-9f21-85d5283e1ab4",
   "metadata": {},
   "outputs": [
    {
     "name": "stderr",
     "output_type": "stream",
     "text": [
      "C:\\Users\\julia\\anaconda3\\Lib\\site-packages\\seaborn\\_oldcore.py:1119: FutureWarning: use_inf_as_na option is deprecated and will be removed in a future version. Convert inf values to NaN before operating instead.\n",
      "  with pd.option_context('mode.use_inf_as_na', True):\n"
     ]
    },
    {
     "data": {
      "text/plain": [
       "Text(0.5, 0, 'Count')"
      ]
     },
     "execution_count": 90,
     "metadata": {},
     "output_type": "execute_result"
    },
    {
     "data": {
      "image/png": "[encoded data removed]",
      "text/plain": [
       "<Figure size 640x480 with 1 Axes>"
      ]
     },
     "metadata": {},
     "output_type": "display_data"
    }
   ],
   "source": [
    "# Plotting histogram of customer type by region\n",
    "sns.histplot(data=df_merged_not_excluded,y='n_dependants',hue='region',multiple='dodge',shrink=.8)\n",
    "plt.title('Customer profile by regions')\n",
    "plt.ylabel('Customer profile')\n",
    "plt.xlabel('Count')"
   ]
  },
  {
   "cell_type": "code",
   "execution_count": 91,
   "id": "a5c643a2-d29b-4389-9df5-02d2e9be2830",
   "metadata": {},
   "outputs": [
    {
     "data": {
      "text/plain": [
       "<Figure size 640x480 with 0 Axes>"
      ]
     },
     "metadata": {},
     "output_type": "display_data"
    }
   ],
   "source": [
    "# Export histogram\n",
    "plt.savefig(os.path.join(path,'04 Analysis','Visualizations','Customer_profile_by_region_bar.png'))"
   ]
  },
  {
   "cell_type": "code",
   "execution_count": 95,
   "id": "a8d9d45e-d8aa-48b0-8c9a-7571c7650600",
   "metadata": {},
   "outputs": [
    {
     "name": "stderr",
     "output_type": "stream",
     "text": [
      "C:\\Users\\julia\\anaconda3\\Lib\\site-packages\\seaborn\\_oldcore.py:1119: FutureWarning: use_inf_as_na option is deprecated and will be removed in a future version. Convert inf values to NaN before operating instead.\n",
      "  with pd.option_context('mode.use_inf_as_na', True):\n"
     ]
    },
    {
     "data": {
      "text/plain": [
       "Text(0.5, 0, 'Count')"
      ]
     },
     "execution_count": 95,
     "metadata": {},
     "output_type": "execute_result"
    },
    {
     "data": {
      "image/png": "[encoded data removed]",
      "text/plain": [
       "<Figure size 640x480 with 1 Axes>"
      ]
     },
     "metadata": {},
     "output_type": "display_data"
    }
   ],
   "source": [
    "# Plotting histogram of customer type by region\n",
    "sns.histplot(data=df_merged_not_excluded,y='income',hue='region')\n",
    "plt.title('Customer profile by regions')\n",
    "plt.ylabel('Customer profile')\n",
    "plt.xlabel('Count')"
   ]
  },
  {
   "cell_type": "code",
   "execution_count": 96,
   "id": "b5a16136-9a9a-4810-9bdd-32b06055cf7f",
   "metadata": {},
   "outputs": [
    {
     "data": {
      "text/plain": [
       "<Figure size 640x480 with 0 Axes>"
      ]
     },
     "metadata": {},
     "output_type": "display_data"
    }
   ],
   "source": [
    "# Export histogram\n",
    "plt.savefig(os.path.join(path,'04 Analysis','Visualizations','Customer_profile_income_by_region_bar.png'))"
   ]
  },
  {
   "cell_type": "markdown",
   "id": "c341787f-b03f-4b09-8cdf-fd701d1d43df",
   "metadata": {},
   "source": [
    "## 9. Export"
   ]
  },
  {
   "cell_type": "code",
   "execution_count": 97,
   "id": "9ecdf78f-e50b-474f-89e3-e91c14581d0c",
   "metadata": {},
   "outputs": [],
   "source": [
    "df_merged_not_excluded.to_pickle(os.path.join(path,'02 Data','Prepared Data','4_10_final_data'))"
   ]
  }
 ],
 "metadata": {
  "kernelspec": {
   "display_name": "Python 3 (ipykernel)",
   "language": "python",
   "name": "python3"
  },
  "language_info": {
   "codemirror_mode": {
    "name": "ipython",
    "version": 3
   },
   "file_extension": ".py",
   "mimetype": "text/x-python",
   "name": "python",
   "nbconvert_exporter": "python",
   "pygments_lexer": "ipython3",
   "version": "3.11.7"
  }
 },
 "nbformat": 4,
 "nbformat_minor": 5
}
